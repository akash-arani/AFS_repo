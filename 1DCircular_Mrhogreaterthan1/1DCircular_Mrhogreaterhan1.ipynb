{
 "cells": [
  {
   "cell_type": "markdown",
   "id": "f9eab880-8503-4315-800d-f82f955bccac",
   "metadata": {},
   "source": [
    "\n",
    "# Instructions: \n",
    "##### To just produce final graph(s) as seen in the paper, run cells in \"Section 1: Setup\" and \"Section 3: Final Graph(s)\" section only, ignore the \"Section 2: Simulations \"\n",
    "##### To run the simulations and produce your own data, run the whole notebook"
   ]
  },
  {
   "cell_type": "markdown",
   "id": "d935c8a7-bd54-4e7a-8c72-20aea4df5f3e",
   "metadata": {},
   "source": [
    "### Section 1: Setup"
   ]
  },
  {
   "cell_type": "code",
   "execution_count": 6,
   "id": "749b475d-19d3-4a2b-925b-b91e1187efc5",
   "metadata": {},
   "outputs": [
    {
     "name": "stdout",
     "output_type": "stream",
     "text": [
      "we want 1 <<< m*deme_density <<< number of demes to keep continous structure\n",
      "1 <<<  10.0  <<<  20000\n",
      "100.0\n",
      "0.0005\n"
     ]
    }
   ],
   "source": [
    "import msprime\n",
    "import tskit\n",
    "import numpy as np\n",
    "import matplotlib.pyplot as plt\n",
    "import pandas as pd\n",
    "import pylab\n",
    "import scipy.linalg\n",
    "import matplotlib\n",
    "import csv\n",
    "import random\n",
    "from itertools import groupby\n",
    "import collections\n",
    "from scipy.special import gamma, factorial\n",
    "from scipy import stats\n",
    "\n",
    "###########################################\n",
    "\n",
    "plt.style.use('seaborn-talk')\n",
    "matplotlib.rcParams['axes.labelsize'] = 20\n",
    "matplotlib.rcParams['axes.titlesize'] = 24\n",
    "matplotlib.rcParams['xtick.labelsize'] = 20\n",
    "matplotlib.rcParams['xtick.major.size'] = 10\n",
    "matplotlib.rcParams['xtick.minor.size'] = 5\n",
    "matplotlib.rcParams['ytick.labelsize'] = 20\n",
    "matplotlib.rcParams['ytick.major.size'] = 10\n",
    "\n",
    "##############################################\n",
    "def migration_matrix(length, migration_rate):\n",
    "    first_col = np.zeros(length)\n",
    "    first_col[1] = migration_rate\n",
    "    first_col[-1] = migration_rate\n",
    "    result = scipy.linalg.circulant(first_col)\n",
    "    return result\n",
    "\n",
    "##############################################################\n",
    "Deme_density = 20\n",
    "L = 20000 #the number of demes \n",
    "deme_sample_size = Deme_density #deme sample size \n",
    "trials = 50 #number of trials\n",
    "m = 0.5 #migration rate\n",
    "total_sample_size = L * deme_sample_size # total sample size\n",
    "matrix = migration_matrix(L, m/2)\n",
    "\n",
    "population_configurations = L * [msprime.PopulationConfiguration(sample_size=deme_sample_size)]\n",
    "\n",
    "print(\"we want 1 <<< m*deme_density <<< number of demes to keep continous structure\")\n",
    "print(\"1 <<< \",m*Deme_density,\" <<< \",L )\n",
    "print(L/(20*m*Deme_density))\n",
    "\n",
    "transition_freq=max(Deme_density,(m*Deme_density**2))/total_sample_size\n",
    "print(transition_freq)"
   ]
  },
  {
   "cell_type": "code",
   "execution_count": 2,
   "id": "93017d96-1fde-483e-ab26-8bc8376ed2b5",
   "metadata": {},
   "outputs": [
    {
     "name": "stdout",
     "output_type": "stream",
     "text": [
      "The effective population size via Maruyama equation is:  40528473.45693511\n",
      "The real population size is 400000\n"
     ]
    }
   ],
   "source": [
    "Effective_pop = L**2 / (2 * m * np.pi**2)\n",
    "print(\"The effective population size via Maruyama equation is: \", Effective_pop)\n",
    "real_pop = L*Deme_density\n",
    "print(\"The real population size is\", real_pop)\n",
    "\n",
    "# Since we're using branch lengths, the mutation rate is 1\n",
    "Theta_eff = 4 * Effective_pop\n",
    "Theta_real = 4 * real_pop\n"
   ]
  },
  {
   "cell_type": "markdown",
   "id": "d12184cc-df6c-449e-a734-06291b437477",
   "metadata": {},
   "source": [
    "### Section 2: Simulations "
   ]
  },
  {
   "cell_type": "code",
   "execution_count": 5,
   "id": "430b501e-f0ac-41a4-832f-efdff7002730",
   "metadata": {},
   "outputs": [],
   "source": [
    "afs2 = []\n",
    "\n",
    "for i in range(trials):\n",
    "    ts = msprime.simulate(Ne=Deme_density, population_configurations=population_configurations, migration_matrix=matrix,record_provenance=False)\n",
    "\n",
    "    afs1 = ts.allele_frequency_spectrum(mode=\"branch\", polarised=True, span_normalise=False)\n",
    "    \n",
    "    afs2.append(afs1)\n",
    "    \n",
    "    #print(\"iteration\",i)\n",
    "    \n",
    "afs = np.mean(afs2, 0)"
   ]
  },
  {
   "cell_type": "code",
   "execution_count": 10,
   "id": "62db62b8-08a2-4d3b-b03a-d4ccfb776161",
   "metadata": {},
   "outputs": [],
   "source": [
    "def smooth(x, threshold, rescale):\n",
    "    return [np.mean(x[max(i - (rescale * i) // threshold, 0) : min(i + 1 + (rescale * i) // threshold, len(x))]) for i in range(len(x))]\n",
    "\n",
    "transition_freq=max(Deme_density,(m*Deme_density**2))/total_sample_size\n"
   ]
  },
  {
   "cell_type": "code",
   "execution_count": 11,
   "id": "4f9f8a64-55bc-48e6-ba55-7b5871e479c3",
   "metadata": {},
   "outputs": [],
   "source": [
    "def smooth_sem(x, threshold, rescale):\n",
    "        return [stats.sem(x[max(i - (rescale * i) // threshold, 0) : min(i + 1 + (rescale * i) // threshold, len(x))]) for i in range(len(x))]\n"
   ]
  },
  {
   "cell_type": "code",
   "execution_count": 13,
   "id": "b18d885e-1a0f-405b-82c0-982ea167a3cf",
   "metadata": {},
   "outputs": [],
   "source": [
    "thresh=1000\n",
    "scale=300"
   ]
  },
  {
   "cell_type": "markdown",
   "id": "bb8934d7-eaff-4c03-ba13-1f0bc9dcc1b9",
   "metadata": {},
   "source": [
    "##### Producing voter model prediction"
   ]
  },
  {
   "cell_type": "code",
   "execution_count": 36,
   "id": "fcf61918-80bd-4889-bd69-2f6977e1401a",
   "metadata": {},
   "outputs": [],
   "source": [
    "frequencies=np.arange(1, total_sample_size+1)/(total_sample_size+1)\n",
    "SNPs = smooth(afs, threshold=thresh, rescale=scale)\n",
    "data_x=[]\n",
    "data_y=[]\n",
    "for i in range(len(frequencies[1:])):\n",
    "    if frequencies[i]>=transition_freq:\n",
    "        data_x.append(frequencies[i])\n",
    "        data_y.append(SNPs[i])"
   ]
  },
  {
   "cell_type": "code",
   "execution_count": null,
   "id": "8d0307e7-4b68-4dfd-88f9-1c9daabda32b",
   "metadata": {},
   "outputs": [],
   "source": [
    "n=L*np.array(data_x)\n",
    "u=1\n",
    "fit=(u/m)*(1-(n/L))\n",
    "voter=(L/Deme_density)*fit\n",
    "plt.loglog(data_x,voter)\n",
    "plt.loglog(data_x,data_y)"
   ]
  },
  {
   "cell_type": "code",
   "execution_count": null,
   "id": "7600901d-7d12-47db-994f-cd161a6baeb7",
   "metadata": {},
   "outputs": [],
   "source": [
    "AF_xpoints = np.arange(1,total_sample_size+1)/(total_sample_size)\n",
    "np.savetxt('AF_xpoints_mrhogreat.csv', AF_xpoints, delimiter=',')\n",
    "\n",
    "Maruyama_effective_ydata = Theta_eff / np.arange(1,total_sample_size+1)\n",
    "np.savetxt('Maruyama_effective_ydata_mrhogreat.csv', Maruyama_effective_ydata, delimiter=',')\n",
    "\n",
    "Maruyama_census_ydata = Theta_real / np.arange(1,total_sample_size+1)\n",
    "np.savetxt('Maruyama_census_ydata_mrhogreat.csv', Maruyama_census_ydata, delimiter=',')\n",
    "\n",
    "Simulated_data = smooth(afs, threshold=thresh, rescale=scale)\n",
    "np.savetxt('Simulated_data_mrhogreat.csv', Simulated_data , delimiter=',')\n",
    "\n",
    "error_data =np.array(smooth_sem(afs, threshold=thresh, rescale=scale))\n",
    "np.savetxt('Simulated_data_mrhogreat_error.csv', error_data , delimiter=',')\n",
    "\n",
    "np.savetxt('Voter_x_data.csv', data_x, delimiter=',')\n",
    "\n",
    "np.savetxt('Voter_y_data.csv', voter, delimiter=',')\n",
    "\n",
    "\n",
    "transition_frequency=max(Deme_density,(m*Deme_density**2))/total_sample_size\n",
    "\n",
    "\n",
    "\n",
    "\n"
   ]
  },
  {
   "cell_type": "code",
   "execution_count": 20,
   "id": "f551eeb2-2ba1-4ce4-a2bb-ca3a8290e97b",
   "metadata": {},
   "outputs": [],
   "source": [
    "\n",
    "Simulated_data = smooth(afs, threshold=thresh, rescale=scale)\n",
    "np.savetxt('Simulated_data_mrhogreat.csv', Simulated_data , delimiter=',')\n"
   ]
  },
  {
   "cell_type": "code",
   "execution_count": null,
   "id": "a9f8e0df-4b2b-4cd4-aa6a-82baaf97b40b",
   "metadata": {},
   "outputs": [],
   "source": [
    "error_data =np.array(smooth_sem(afs, threshold=thresh, rescale=scale))\n",
    "np.savetxt('Simulated_data_mrhogreat_error.csv', error_data , delimiter=',')\n"
   ]
  },
  {
   "cell_type": "markdown",
   "id": "c77067db-3626-468a-bb26-b3e60f2a43b4",
   "metadata": {},
   "source": [
    "### Section 3: Final Graph(s)"
   ]
  },
  {
   "cell_type": "code",
   "execution_count": 3,
   "id": "9abec701-263a-4675-9f9e-bb18a9c9dfa5",
   "metadata": {},
   "outputs": [],
   "source": [
    "AF_xpoints_read=np.array(pd.read_csv('AF_xpoints_mrhogreat.csv'))\n",
    "\n",
    "Maruyama_effective_ydata_read= np.array(pd.read_csv('Maruyama_effective_ydata_mrhogreat.csv'))\n",
    "\n",
    "Maruyama_census_ydata_read=np.array(pd.read_csv('Maruyama_census_ydata_mrhogreat.csv'))\n",
    "\n",
    "Simulated_data_read = np.array(pd.read_csv('Simulated_data_mrhogreat.csv'))\n",
    "\n",
    "error_data_read= np.array(pd.read_csv('Simulated_data_mrhogreat_error.csv'))\n",
    "\n",
    "voter_x_read=np.array(pd.read_csv('voter_x_data.csv'))\n",
    "\n",
    "voter_y_read=np.array(pd.read_csv('voter_y_data.csv'))"
   ]
  },
  {
   "cell_type": "code",
   "execution_count": 5,
   "id": "20d356f2-edc8-441b-9fee-e2c0a8702276",
   "metadata": {},
   "outputs": [
    {
     "data": {
      "image/png": "[encoded data removed]",
      "text/plain": [
       "<Figure size 748.8x514.8 with 1 Axes>"
      ]
     },
     "metadata": {
      "needs_background": "light"
     },
     "output_type": "display_data"
    }
   ],
   "source": [
    "err=error_data_read.flatten()\n",
    "transition_freq=max(Deme_density,(m*Deme_density**2))/total_sample_size\n",
    "plt.loglog(AF_xpoints_read, Maruyama_effective_ydata_read, color=\"red\", label=r\"$N_e=\\dfrac{L^2}{2m\\pi^2}$\")\n",
    "plt.loglog(AF_xpoints_read,Maruyama_census_ydata_read, color=\"blue\", label=r\"$N_e=\\rho L$\")\n",
    "plt.axvline(transition_freq,color='purple', linestyle = '--')\n",
    "#plt.text(0.0002,25,r\"Transition frequency = $\\dfrac{m\\rho}{L}$\",fontsize='14.5')\n",
    "plt.errorbar(AF_xpoints_read[1:], Simulated_data_read , yerr=err, ecolor=\"lime\", label=\"Simulation\")\n",
    "plt.loglog(voter_x_read,voter_y_read, label='Voter model')\n",
    "plt.axvline(transition_freq,color='purple',linestyle='dashed', label=r\"$\\dfrac{m\\rho}{L}$\" )\n",
    "plt.axhline(4*L/(m*Deme_density), color='green',linestyle='dashed', label=r\"$\\dfrac{4L}{m\\rho}$\")\n",
    "plt.axhline((L/(m*Deme_density))-1,color='maroon', linestyle='dashed', label=r\"$\\dfrac{L}{m\\rho}-1$\")\n",
    "plt.legend(loc=\"lower left\", prop={'size': 10})\n",
    "plt.xlabel(\"Allele frequency\")\n",
    "plt.ylabel(\"SNP count\")\n",
    "plt.savefig(\"1d_mrhogreatfit.pdf\")\n"
   ]
  },
  {
   "cell_type": "code",
   "execution_count": null,
   "id": "93bf2434-73d8-4822-b096-11458c25a949",
   "metadata": {},
   "outputs": [],
   "source": []
  }
 ],
 "metadata": {
  "kernelspec": {
   "display_name": "Python 3",
   "language": "python",
   "name": "python3"
  },
  "language_info": {
   "codemirror_mode": {
    "name": "ipython",
    "version": 3
   },
   "file_extension": ".py",
   "mimetype": "text/x-python",
   "name": "python",
   "nbconvert_exporter": "python",
   "pygments_lexer": "ipython3",
   "version": "3.8.8"
  }
 },
 "nbformat": 4,
 "nbformat_minor": 5
}
